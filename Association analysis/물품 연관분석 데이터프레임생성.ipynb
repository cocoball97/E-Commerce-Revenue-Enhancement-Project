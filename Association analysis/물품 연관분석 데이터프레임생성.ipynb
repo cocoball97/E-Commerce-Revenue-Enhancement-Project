{
 "cells": [
  {
   "cell_type": "code",
   "execution_count": 1,
   "id": "dadf867c",
   "metadata": {},
   "outputs": [],
   "source": [
    "import pandas as pd\n",
    "import matplotlib\n",
    "%matplotlib inline \n",
    "\n",
    "import warnings\n",
    "warnings.filterwarnings('ignore')\n",
    "matplotlib.rc(\"font\",family = \"NaNumGothic\")\n",
    "matplotlib.rc(\"axes\",unicode_minus = False) # 음수표시 "
   ]
  },
  {
   "cell_type": "markdown",
   "id": "1220091d",
   "metadata": {},
   "source": [
    "# 연령별 "
   ]
  },
  {
   "cell_type": "code",
   "execution_count": 10,
   "id": "50915f51",
   "metadata": {},
   "outputs": [],
   "source": [
    "df_1= pd.read_csv(\"/home/piai/강의파일/프로젝트/같이사는물품(물품명) 20대.csv\")\n",
    "df_1 = df_1['전체물품명']\n",
    "\n",
    "# 스플릿해서 데이터프레임 형태\n",
    "df_1 = pd.DataFrame(df_1.str.split('$').tolist())\n",
    "df_1.replace(' ', '' , inplace=True)\n",
    "\n",
    "df_1.to_csv('구매상품데이터프레임(물품명) 20대.csv')"
   ]
  },
  {
   "cell_type": "code",
   "execution_count": null,
   "id": "48eedc1d",
   "metadata": {},
   "outputs": [],
   "source": []
  },
  {
   "cell_type": "code",
   "execution_count": 28,
   "id": "bffb320c",
   "metadata": {},
   "outputs": [],
   "source": [
    "df_1= pd.read_csv(\"/home/piai/강의파일/프로젝트/같이사는물품(물품명) 30대.csv\")\n",
    "df_1 = df_1['전체물품명']\n",
    "df_1\n",
    "\n",
    "# 스플릿해서 데이터프레임 형태\n",
    "df_1 = pd.DataFrame(df_1.str.split('$').tolist())\n",
    "df_1.replace(' ', '' , inplace=True)\n",
    "\n",
    "df_1.to_csv('구매상품데이터프레임(물품명) 30대.csv')"
   ]
  },
  {
   "cell_type": "code",
   "execution_count": 29,
   "id": "f8e7adc3",
   "metadata": {},
   "outputs": [],
   "source": [
    "df_1= pd.read_csv(\"/home/piai/강의파일/프로젝트/같이사는물품(물품명) 40대.csv\")\n",
    "df_1 = df_1['전체물품명']\n",
    "df_1\n",
    "\n",
    "# 스플릿해서 데이터프레임 형태\n",
    "df_1 = pd.DataFrame(df_1.str.split('$').tolist())\n",
    "df_1.replace(' ', '' , inplace=True)\n",
    "\n",
    "df_1.to_csv('구매상품데이터프레임(물품명) 40대.csv')"
   ]
  },
  {
   "cell_type": "code",
   "execution_count": 30,
   "id": "2ae60ac4",
   "metadata": {},
   "outputs": [],
   "source": [
    "df_1= pd.read_csv(\"/home/piai/강의파일/프로젝트/같이사는물품(물품명) 50대.csv\")\n",
    "df_1 = df_1['전체물품명']\n",
    "df_1\n",
    "\n",
    "# 스플릿해서 데이터프레임 형태\n",
    "df_1 = pd.DataFrame(df_1.str.split('$').tolist())\n",
    "df_1.replace(' ', '' , inplace=True)\n",
    "\n",
    "df_1.to_csv('구매상품데이터프레임(물품명) 50대.csv')"
   ]
  },
  {
   "cell_type": "code",
   "execution_count": 31,
   "id": "eb22aec9",
   "metadata": {},
   "outputs": [],
   "source": [
    "df_1= pd.read_csv(\"/home/piai/강의파일/프로젝트/같이사는물품(물품명) 60대 이상.csv\")\n",
    "df_1 = df_1['전체물품명']\n",
    "df_1\n",
    "\n",
    "# 스플릿해서 데이터프레임 형태\n",
    "df_1 = pd.DataFrame(df_1.str.split('$').tolist())\n",
    "df_1.replace(' ', '' , inplace=True)\n",
    "\n",
    "df_1.to_csv('구매상품데이터프레임(물품명) 60대 이상.csv')"
   ]
  }
 ],
 "metadata": {
  "kernelspec": {
   "display_name": "Python 3 (ipykernel)",
   "language": "python",
   "name": "python3"
  },
  "language_info": {
   "codemirror_mode": {
    "name": "ipython",
    "version": 3
   },
   "file_extension": ".py",
   "mimetype": "text/x-python",
   "name": "python",
   "nbconvert_exporter": "python",
   "pygments_lexer": "ipython3",
   "version": "3.9.13"
  }
 },
 "nbformat": 4,
 "nbformat_minor": 5
}
