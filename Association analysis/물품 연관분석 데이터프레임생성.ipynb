{
 "cells": [
  {
   "cell_type": "code",
   "execution_count": null,
   "id": "dadf867c",
   "metadata": {},
   "outputs": [],
   "source": [
    "import pandas as pd\n",
    "import matplotlib\n",
    "%matplotlib inline \n",
    "\n",
    "import warnings\n",
    "warnings.filterwarnings('ignore')\n",
    "matplotlib.rc(\"font\",family = \"NaNumGothic\")\n",
    "matplotlib.rc(\"axes\",unicode_minus = False) # 음수표시 "
   ]
  },
  {
   "cell_type": "markdown",
   "id": "1220091d",
   "metadata": {},
   "source": [
    "# 연령별 "
   ]
  },
  {
   "cell_type": "code",
   "execution_count": null,
   "id": "50915f51",
   "metadata": {},
   "outputs": [],
   "source": [
    "df= pd.read_csv(\"../data/같이사는물품 20대.csv\")\n",
    "df = df['전체물품명']\n",
    "\n",
    "# 스플릿해서 데이터프레임 형태\n",
    "df = pd.DataFrame(df.str.split('$').tolist())\n",
    "df.replace(' ', '' , inplace=True)\n",
    "\n",
    "df.to_csv('../data/구매상품데이터프레임 20대.csv', encoding=\"utf-8-sig\")"
   ]
  },
  {
   "cell_type": "code",
   "execution_count": null,
   "id": "bffb320c",
   "metadata": {},
   "outputs": [],
   "source": [
    "df= pd.read_csv(\"../data/같이사는물품 30대.csv\")\n",
    "df = df['전체물품명']\n",
    "\n",
    "# 스플릿해서 데이터프레임 형태\n",
    "df = pd.DataFrame(df.str.split('$').tolist())\n",
    "df.replace(' ', '' , inplace=True)\n",
    "\n",
    "df.to_csv('../data/구매상품데이터프레임 30대.csv', encoding=\"utf-8-sig\")"
   ]
  },
  {
   "cell_type": "code",
   "execution_count": null,
   "id": "f8e7adc3",
   "metadata": {},
   "outputs": [],
   "source": [
    "df= pd.read_csv(\"../data/같이사는물품 40대.csv\")\n",
    "df = df['전체물품명']\n",
    "\n",
    "# 스플릿해서 데이터프레임 형태\n",
    "df = pd.DataFrame(df.str.split('$').tolist())\n",
    "df.replace(' ', '' , inplace=True)\n",
    "\n",
    "df.to_csv('../data/구매상품데이터프레임 40대.csv', encoding=\"utf-8-sig\")"
   ]
  },
  {
   "cell_type": "code",
   "execution_count": null,
   "id": "2ae60ac4",
   "metadata": {},
   "outputs": [],
   "source": [
    "df= pd.read_csv(\"../data/같이사는물품 50대.csv\")\n",
    "df = df['전체물품명']\n",
    "\n",
    "# 스플릿해서 데이터프레임 형태\n",
    "df = pd.DataFrame(df.str.split('$').tolist())\n",
    "df.replace(' ', '' , inplace=True)\n",
    "\n",
    "df.to_csv('../data/구매상품데이터프레임 50대.csv', encoding=\"utf-8-sig\")"
   ]
  },
  {
   "cell_type": "code",
   "execution_count": null,
   "id": "eb22aec9",
   "metadata": {},
   "outputs": [],
   "source": [
    "df= pd.read_csv(\"../data/같이사는물품 60대 이상.csv\")\n",
    "df = df['전체물품명']\n",
    "df\n",
    "\n",
    "# 스플릿해서 데이터프레임 형태\n",
    "df = pd.DataFrame(df.str.split('$').tolist())\n",
    "df.replace(' ', '' , inplace=True)\n",
    "\n",
    "df.to_csv('../data/구매상품데이터프레임 60대 이상.csv', encoding=\"utf-8-sig\")"
   ]
  }
 ],
 "metadata": {
  "kernelspec": {
   "display_name": "Python 3 (ipykernel)",
   "language": "python",
   "name": "python3"
  },
  "language_info": {
   "codemirror_mode": {
    "name": "ipython",
    "version": 3
   },
   "file_extension": ".py",
   "mimetype": "text/x-python",
   "name": "python",
   "nbconvert_exporter": "python",
   "pygments_lexer": "ipython3",
   "version": "3.8.18"
  }
 },
 "nbformat": 4,
 "nbformat_minor": 5
}
